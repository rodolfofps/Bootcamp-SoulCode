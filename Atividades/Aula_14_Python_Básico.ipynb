{
  "nbformat": 4,
  "nbformat_minor": 0,
  "metadata": {
    "colab": {
      "provenance": [],
      "toc_visible": true
    },
    "kernelspec": {
      "name": "python3",
      "display_name": "Python 3"
    },
    "language_info": {
      "name": "python"
    }
  },
  "cells": [
    {
      "cell_type": "markdown",
      "source": [
        "## Python Básico - Operadores"
      ],
      "metadata": {
        "id": "UyhNLMMrlmhF"
      }
    },
    {
      "cell_type": "code",
      "execution_count": null,
      "metadata": {
        "colab": {
          "base_uri": "https://localhost:8080/"
        },
        "id": "CoHjPNFFlXqG",
        "outputId": "1a9de20e-73c9-4752-beba-a370da782028"
      },
      "outputs": [
        {
          "output_type": "stream",
          "name": "stdout",
          "text": [
            "5\n"
          ]
        }
      ],
      "source": [
        "# Operador de adição (+)\n",
        "\n",
        "soma = 3+2\n",
        "print(soma)"
      ]
    },
    {
      "cell_type": "code",
      "source": [
        "#Operador de subtração\n",
        "\n",
        "sub = 3-2\n",
        "print(sub)"
      ],
      "metadata": {
        "colab": {
          "base_uri": "https://localhost:8080/"
        },
        "id": "I5tdEc9Mn8rX",
        "outputId": "e7f24c59-7c9c-427e-e7b1-d532115c2cb0"
      },
      "execution_count": null,
      "outputs": [
        {
          "output_type": "stream",
          "name": "stdout",
          "text": [
            "1\n"
          ]
        }
      ]
    },
    {
      "cell_type": "code",
      "source": [
        "#Operador de multiplicação\n",
        "\n",
        "multi = 3*2\n",
        "print(multi)"
      ],
      "metadata": {
        "colab": {
          "base_uri": "https://localhost:8080/"
        },
        "id": "BYW2zsAIoKRU",
        "outputId": "e1d1f36c-4aff-43c8-aee5-f801ba1f8433"
      },
      "execution_count": null,
      "outputs": [
        {
          "output_type": "stream",
          "name": "stdout",
          "text": [
            "6\n"
          ]
        }
      ]
    },
    {
      "cell_type": "code",
      "source": [
        "#Operador de divisão\n",
        "\n",
        "divi = 3/2\n",
        "print(divi)"
      ],
      "metadata": {
        "colab": {
          "base_uri": "https://localhost:8080/"
        },
        "id": "7jGxHwHboUbG",
        "outputId": "09cc22af-0b54-470a-bf59-f001ac7f1b17"
      },
      "execution_count": null,
      "outputs": [
        {
          "output_type": "stream",
          "name": "stdout",
          "text": [
            "1.5\n"
          ]
        }
      ]
    },
    {
      "cell_type": "code",
      "source": [
        "# Operador de divisão (Parte inteira da divisão)  \"//\"\n",
        "idiv = 3 // 2 #As  \"//\" fazem com que na divisão o valor retornado seja apenas um valor inteiro. A conta daria 1,5, mas como retorna apenas o inteiro retornará 1.\n",
        "print(idiv)\n",
        "\n",
        "\n",
        "\n",
        "# Operador de divisão (Resto da divisão) \"%\"\n",
        "rdiv = 3 % 2\n",
        "\n",
        "#Potenciação \"**\"\n",
        "pot = 3 ** 2\n",
        "print(pot)\n"
      ],
      "metadata": {
        "id": "h3Hm_iucpDQG"
      },
      "execution_count": null,
      "outputs": []
    },
    {
      "cell_type": "code",
      "source": [
        "# Melhorando a visualização dos prints f-strings\n",
        "\n",
        "print(f'O resultado da soma de 3 + 2 é: {soma:.0f}')\n",
        "print(f'O resultado da subtração de 3 -2 é: {sub:.0f}')\n",
        "print(f'O resultado da multiplicação de 3 por 2 é: {multi:.2f}')\n",
        "print(f'O resultado da divisão de 3 por 2 é: {divi:.2f}')\n",
        "print(f'O resultado da parte inteira da divisão de 3 por 2 é: {idiv:.2f}')\n",
        "print(f'O resto da divisão de 3 por 2 é: {rdiv:.2f}')\n",
        "print(f'O resultado da potenciação de 3 a 2 é: {pot:.2f}')"
      ],
      "metadata": {
        "colab": {
          "base_uri": "https://localhost:8080/"
        },
        "id": "ZIq8br4SpacX",
        "outputId": "e3a268d8-3568-41f1-a50f-afe65e17ac1a"
      },
      "execution_count": null,
      "outputs": [
        {
          "output_type": "stream",
          "name": "stdout",
          "text": [
            "O resultado da soma de 3 + 2 é: 5\n",
            "O resultado da subtração de 3 -2 é: 1\n",
            "O resultado da multiplicação de 3 por 2 é: 6.00\n",
            "O resultado da divisão de 3 por 2 é: 1.50\n",
            "O resultado da parte inteira da divisão de 3 por 2 é: 1.00\n",
            "O resto da divisão de 3 por 2 é: 1.00\n",
            "O resultado da potenciação de 3 a 2 é: 9.00\n"
          ]
        }
      ]
    },
    {
      "cell_type": "markdown",
      "source": [
        "## Operadores de comparação (booleanos)\n",
        "\n",
        "\n"
      ],
      "metadata": {
        "id": "LnZlo263tgLG"
      }
    },
    {
      "cell_type": "markdown",
      "source": [
        "## Operador (==)"
      ],
      "metadata": {
        "id": "P8bCmC_51161"
      }
    },
    {
      "cell_type": "code",
      "source": [
        "#  (==)  verifica se dois valores são iguais (retorna True ou False)\n",
        "# Exemplo comparando dois algarismos : 2 e 3\n",
        "\n",
        "comp = 2 == 3  # a variável recebe a comparação dos 2 algarismos. As 2 variáveis são do mesmo tipo, porém os valores são diferentes; logo resultado será \"False\"\n",
        "print(comp)\n",
        "\n",
        "comp1 = 2 == 2.0  # a var comp1 recebe a comparação dos 2 algarismos. São tipos de var diferentes (2=int e 2.0=float), mas o valor é igual; logo o resultado será \"True\"\n",
        "print(comp1)\n",
        "\n",
        "comp2 = 'rodolfo' == \"Rodolfo\" #Na comparação entre strings\n",
        "print(comp2)"
      ],
      "metadata": {
        "colab": {
          "base_uri": "https://localhost:8080/"
        },
        "id": "EwIR2DsisK_P",
        "outputId": "de353c16-0618-4c09-9fb3-0486e51da024"
      },
      "execution_count": null,
      "outputs": [
        {
          "output_type": "stream",
          "name": "stdout",
          "text": [
            "False\n",
            "True\n",
            "False\n"
          ]
        }
      ]
    },
    {
      "cell_type": "markdown",
      "source": [
        "## Operador (!=) - \"Diferente\""
      ],
      "metadata": {
        "id": "_uGCL6dU1_Ct"
      }
    },
    {
      "cell_type": "code",
      "source": [
        "# (!=) verifica se dois valores são diferentes (retorna True ou False)\n",
        "# Exemplo: compara se 3 (variável a) é diferente de 3.0 (variável b)\n",
        "\n",
        "a = 4\n",
        "b = 3.0\n",
        "teste = a != b   # a comparação deu que as variáveis NÃO são diferentes, pois comparou os valores e não o tipo!\n",
        "print(teste)"
      ],
      "metadata": {
        "colab": {
          "base_uri": "https://localhost:8080/"
        },
        "id": "uwfizpc1vFAs",
        "outputId": "2323170d-370a-4469-9f6a-cc84526b234d"
      },
      "execution_count": null,
      "outputs": [
        {
          "output_type": "stream",
          "name": "stdout",
          "text": [
            "True\n"
          ]
        }
      ]
    },
    {
      "cell_type": "markdown",
      "source": [
        "## Operador (>) - \"Maior\" | (<) \"Menor\""
      ],
      "metadata": {
        "id": "KsTUsR6n5Bg2"
      }
    },
    {
      "cell_type": "code",
      "source": [
        "# faz o comparativo pra verificar se um valor é maior que o outro (retorna True ou False)\n",
        "\n",
        "teste1 = a > b\n",
        "print(f'O valor da comparação é: {teste1}')\n",
        "\n",
        "# faz o comparativo pra verificar se um valor é maior que o outro (retorna True ou False)\n",
        "\n",
        "teste4 = a < b\n",
        "print(f'O valor da comparação é: {teste4}')\n"
      ],
      "metadata": {
        "colab": {
          "base_uri": "https://localhost:8080/"
        },
        "id": "_vJjglRZ2wpN",
        "outputId": "950caa01-6731-4d25-92e9-ac31c9796c17"
      },
      "execution_count": null,
      "outputs": [
        {
          "output_type": "stream",
          "name": "stdout",
          "text": [
            "O valor da comparação é: True\n",
            "O valor da comparação é: False\n"
          ]
        }
      ]
    },
    {
      "cell_type": "markdown",
      "source": [
        "## Operador (>=) - \"Maior igual\" | (<=) \"Menor igual\""
      ],
      "metadata": {
        "id": "8lZCy6vG6YnG"
      }
    },
    {
      "cell_type": "code",
      "source": [
        "# (>=) faz o comparativo pra verificar se um valor é maior ou igual ao outro (retorna True ou False)\n",
        "\n",
        "teste2 = a >= b\n",
        "print(f'O valor da comparação é: {teste2}')\n",
        "\n",
        "# (<=) faz o comparativo pra verificar se um valor é menor ou igual ao outro (retorna True ou False)\n",
        "\n",
        "teste3 = a <= b\n",
        "print(f'O valor da comparação é: {teste3}')\n"
      ],
      "metadata": {
        "colab": {
          "base_uri": "https://localhost:8080/"
        },
        "id": "dsfBfTHs5u_t",
        "outputId": "13cd32fd-c946-4791-c8fa-0ae7677d6e30"
      },
      "execution_count": null,
      "outputs": [
        {
          "output_type": "stream",
          "name": "stdout",
          "text": [
            "O valor da comparação é: True\n",
            "O valor da comparação é: False\n"
          ]
        }
      ]
    },
    {
      "cell_type": "markdown",
      "source": [
        "## Operadores de atribuição\n"
      ],
      "metadata": {
        "id": "_QWH3ZSD8BgH"
      }
    },
    {
      "cell_type": "code",
      "source": [
        "# Atribuição direta (=) -  atribui ao lado esquerdo do sinal um valor que está ao lado direito do sinal\n",
        "nome = 'Rodolfo'\n",
        "peso_kg = 72\n",
        "altura_m = 1.85\n",
        "\n",
        "# Atribuição de incremento (+=); equivale a    x = x + y (equivale a uma var x que já existe recebendo ela mesma + outro valor)\n",
        "#Exemplo: criação de uma variável t que receba o número inteiro 3 e depois some 1 para essa variável\n",
        "# 1)-Situação de inceremento (+=)\n",
        "t = 3\n",
        "t = t+1   # Essa mesma soma poderia ser feita por (t += 1)\n",
        "print(f'O resultado da atribuição de adição (t+[número]) é: {t}')\n",
        "\n",
        "\n",
        "# Atribuição de decremento (-=); equivale a    x = x - y (equivale a uma var x que já existe recebendo ela mesma - outro valor)\n",
        "# 2)-Situação de decremento (-=)\n",
        "t = 3\n",
        "t -= 1   # Essa mesma subtração poderia ser feita por (t -= 1)\n",
        "print(f'O resultado da atribuição de subtração (t-[número]) é: {t}')\n",
        "\n",
        "\n",
        "# Atribuição de mutliplicação (*=); equivale a    x = x * y (equivale a uma var x que já existe recebendo ela mesma * outro valor)\n",
        "# 3)-Situação de multiplicação (*=)\n",
        "z = 3\n",
        "z *= 3   # Essa mesma multiplicação poderia ser feita por (t *= [número])\n",
        "print(f'O resultado da atribuição de subtração (t*[número]) é: {z}')\n",
        "\n",
        "\n",
        "# Atribuição de divisão (/=); equivale a    x = x / y (equivale a uma var x que já existe recebendo ela mesma / outro valor)\n",
        "# 4)-Situação de divisão (/=)\n",
        "j = 87\n",
        "j /= 3   # Essa mesma divisão poderia ser feita por (t /= [número])\n",
        "print(f'O resultado da atribuição de subtração (t/[número]) é: {j}')\n",
        "\n",
        "\n",
        "# Atribuição da parte inteira da divisão (//=) equivale a    x = x // y\n",
        "# Exempl: criação de uma variável k que recebe o número 7 e depois a parte inteira da divisão por 2\n",
        "k = 7\n",
        "k //= 2\n",
        "print(f'O resultado de k//2 é: {k}')  #Na divisão de 7 por 2, no resultado restará um inteiro (3). 2*3 = 6 e resta 1 pra completar o 7\n",
        "\n",
        "\n",
        "# Atribuição do resto da divisão  (%=) equivale a    x = x % y\n",
        "# Exemplo: crie uma variável b que receba o número 7 e depois receba o resto da divisão dela por 2\n",
        "b = 7\n",
        "b %= 2\n",
        "print(f'O resultado de k//2 é: {b}')  # #Na divisão de 7 por 2, no resultado restará um inteiro (3). 2*3 = 6 e resta 1 pra completar o 7. Esse valor 1 será o valor retornado!\n",
        "\n",
        "\n",
        "# Atribuição de potenciação  (**=) equivale a    x = x ** y\n",
        "# Exemplo: crie uma variável w que receba o valor 12 e depois receba o seu quadrado\n",
        "w = 12\n",
        "w **= 2\n",
        "print(f'O valor da variável w elevada ao quadrado é: {w}')\n",
        "\n",
        "\n",
        "\n"
      ],
      "metadata": {
        "id": "rfbn7-1f6dm8"
      },
      "execution_count": null,
      "outputs": []
    },
    {
      "cell_type": "markdown",
      "source": [
        "## Operadores Lógicos\n",
        "*  Operador _(and)_\n"
      ],
      "metadata": {
        "id": "hpdp4fSKdyyV"
      }
    },
    {
      "cell_type": "code",
      "source": [
        "# (and)   Retorna verdadeiro somente se TODAS as condições de uma comparação forems atendidas\n",
        "#Exemplo\n",
        "\n",
        "teste5 = 3 >= 2 and 3 != 2 and 3 < 4  #Exemplo usando a palavra \"and\"\n",
        "print(teste5)\n",
        "\n",
        "\n",
        "teste6 = (3 >= 2) & (3 != 2) & (3 < 4)   #Exemplo usando \"&\" - bitwise\n",
        "print(teste6)"
      ],
      "metadata": {
        "id": "imE3l5xO9dB_"
      },
      "execution_count": null,
      "outputs": []
    },
    {
      "cell_type": "code",
      "source": [
        "# (or)   Retorna vertdadeiro se PELO MENOS UM dos elementos for verdadeiro\n",
        "\n",
        "teste7 = 3 >= 2 or 3 == 2 or 3 > 4\n",
        "print(teste7)"
      ],
      "metadata": {
        "colab": {
          "base_uri": "https://localhost:8080/"
        },
        "id": "oc67rBbaezuA",
        "outputId": "c94509a8-5df9-40a0-fabe-9b82773ee6cd"
      },
      "execution_count": null,
      "outputs": [
        {
          "output_type": "stream",
          "name": "stdout",
          "text": [
            "True\n"
          ]
        }
      ]
    },
    {
      "cell_type": "code",
      "source": [
        "# (not)  Inverte os valores (verdadeiro em falso ou vice-versa)\n",
        "#Exemplo:\n",
        "\n",
        "teste8 = not(teste7)\n",
        "print(teste8)\n",
        "\n",
        "teste9 = (not(3 <= 2)) & (not(3 == 2)) & (3 < 4)  # Invertendo o resultado da primeira sentença (comparação)\n",
        "print(teste9)\n",
        "\n",
        "teste10 = not((3 >= 2) & (3 != 2) & (3 < 4))   # Invertendo o resultado da comparação\n",
        "print(teste10)"
      ],
      "metadata": {
        "colab": {
          "base_uri": "https://localhost:8080/"
        },
        "id": "9MOYfOrWgYce",
        "outputId": "277bc4f0-c31e-4e6d-8b43-f829a699cc0f"
      },
      "execution_count": null,
      "outputs": [
        {
          "output_type": "stream",
          "name": "stdout",
          "text": [
            "False\n",
            "True\n",
            "False\n"
          ]
        }
      ]
    },
    {
      "cell_type": "markdown",
      "source": [
        "## Operadores de identidade\n",
        "*  _(is)_ Compara se um objeto é igual ao outro"
      ],
      "metadata": {
        "id": "dNR-8Z0dtvLs"
      }
    },
    {
      "cell_type": "code",
      "source": [
        "# (is) compara se um objeto é igual ao outro, levando em consideração o valor da variável e seu tipo\n",
        "\n",
        "h = 4\n",
        "p = 4\n",
        "teste11 = p == h\n",
        "print(f'h == p é: {teste11}')\n",
        "teste12 =  p is h\n",
        "print(f'h is p é: {teste12}')\n",
        "print(\"========================================================\")\n",
        "m = 3\n",
        "n = 3.0\n",
        "teste13 = m == n\n",
        "print(f'm == n é: {teste13}')  # A comparação de igualdade é True, pois os valores são os mesmos\n",
        "teste14 = m is n\n",
        "print(f'm is n é: {teste14}')  # Nessa verificação usando \"is\" o resultado é False, pois mesmo o valor sendo igual o tipo das variáveis diferem\n",
        "print(type(m))\n",
        "print(type(n))\n",
        "print(\"==========================================================\")\n",
        "# (is not) compara se um objeto é diferente do outro em relação ao valor e o tipo\n",
        "x = 3\n",
        "y = 4\n",
        "teste15 = x != y\n",
        "print(f'x != y é: {teste15}')\n",
        "teste16 = x is not y\n",
        "print(f'x is not y é: {teste16}')\n",
        "print(\"============================================================\")\n",
        "o = 3\n",
        "s = 3.0\n",
        "teste17 = o == s\n",
        "print(f'o == s é: {teste17}')\n",
        "teste18 = o is not s\n",
        "print(f'o is not s é: {teste18}')  # O teste deu True, pois na verificação o resultado seria False, mas como é \"is not\" há inversão do valor transformando-o em True!\n",
        "print(type(o))\n",
        "print(type(s))\n",
        "print(\"=============================================================\")"
      ],
      "metadata": {
        "id": "MKFho0bVhbRt",
        "colab": {
          "base_uri": "https://localhost:8080/"
        },
        "outputId": "8a3b2c0c-be7b-44ee-f9bd-2259d6bc39db"
      },
      "execution_count": null,
      "outputs": [
        {
          "output_type": "stream",
          "name": "stdout",
          "text": [
            "h == p é: True\n",
            "h is p é: True\n",
            "========================================================\n",
            "m == n é: True\n",
            "m is n é: False\n",
            "<class 'int'>\n",
            "<class 'float'>\n",
            "==========================================================\n",
            "x != y é: True\n",
            "x is not y é: True\n",
            "============================================================\n",
            "o == s é: True\n",
            "o is not s é: True\n",
            "<class 'int'>\n",
            "<class 'float'>\n",
            "=============================================================\n"
          ]
        }
      ]
    },
    {
      "cell_type": "markdown",
      "source": [
        "## Operadores de associação (in / not in)"
      ],
      "metadata": {
        "id": "ZKChBjOX0N1g"
      }
    },
    {
      "cell_type": "code",
      "source": [
        "# (in) Retorna verdadeiro se um caracter ou sequencia de caracteres for encontrado dentro de uma string\n",
        "# Exemplo:\n",
        "nome = 'Camila'\n",
        "teste19 = 'Cami' in nome      # o valor da variável precisa conter exatamente o segmento de caracteres, pois o Python é case sensitive!!!\n",
        "print(f'Camila contém Cami?: {teste19}')\n",
        "print(\"=========================================================================================================\")\n",
        "# (not in) Retorna verdadeiro se um caracter ou sequencia de caracteres NÃO for encontrado dentro de uma string\n",
        "teste20 = 'Cami' not in nome\n",
        "print(f'Camila não contém Cami: {teste20}')"
      ],
      "metadata": {
        "id": "h6OIwXzAwDnV"
      },
      "execution_count": null,
      "outputs": []
    },
    {
      "cell_type": "markdown",
      "source": [
        "## Coletando informações do usuário"
      ],
      "metadata": {
        "id": "BMDAOMo_1ezY"
      }
    },
    {
      "cell_type": "code",
      "source": [
        "nome = input('Informe seu nome ')   # Qualquer valor inserido no input se enquadrará como string\n",
        "print(f'O nome digitado é: {nome}')\n",
        "peso = int(input('Informe seu peso em kg inteiros '))    # o int é colocado no início do input já para considerar o valor inserido como int, senão seria string\n",
        "print(f'{nome} tem : {peso}kg')\n",
        "altura = float(input(\"Informe a altura, em metros\"))    # o float é colocado no início do input já para considerar o valor inserido como float(valor fracionado), senão seria string\n",
        "print(f'{nome} tem {peso}[kg] e {altura}m de altura')\n",
        "\n",
        "imc = peso / altura**2\n",
        "print(f'Seu imc é {imc:.1f} {nome}')"
      ],
      "metadata": {
        "id": "q8vKaQZW0el4"
      },
      "execution_count": null,
      "outputs": []
    },
    {
      "cell_type": "markdown",
      "source": [
        "## Python Básico - Strings"
      ],
      "metadata": {
        "id": "R3dFubHg-WUw"
      }
    },
    {
      "cell_type": "code",
      "source": [
        "# 0    1   2   3   4   5  6  7  8  9 10 11 12 13 (índice)\n",
        "# -14 -13 -12 -11 -10 -9 -8 -7 -6 -5 -4 -3 -2 -1 (índice reverso)\n",
        "# 1º 2º 3º 4º 5º 6º 7º 8º 9º 10º 11º 12º 13º 14º (ordinal)\n",
        "# d  o  u  g  @  g  m  a  i   l   .   c   o   m\n",
        "\n",
        "email = 'rodolfo@gmail.com'\n",
        "# encontrando um caracter pelo índice\n",
        "# Exemplo: qual é o quinto caracter dessa string?\n",
        "print(f'O quinto caracter dessa string é: {email[4]}')\n",
        "print(\"================================================\")\n",
        "# Exemplo: qual é o último caracter dessa string?\n",
        "print(f'O último caracter dessa string é: {email[16]}')\n",
        "print(\"=================================================\")\n",
        "# Exemplo: Quais são os caracteres que vem depois do segundo caracter (excluindo o segundo segundo).\n",
        "# EXPLICAÇÃO: O número ordinal estará sempre um número a frente. Se desejo a continuação depois do 2º caractere(letra o), colocarei o índice [2] que representa caracteres acima do 2º\n",
        "\n",
        "print(f'A sequência caracteres dessa string é: {email[2:]}')\n",
        "print(\"======================================================\")\n",
        "# Exemplo: Quais são todos os caracteres dessa string?\n",
        "print(f'A sequência todos os caracteres dessa string é: {email[:]}')\n",
        "print(\"========================================================\")\n",
        "# Exemplo: buscar e imprimir todos os caracteres até o caracter de índice 4 (todos os caracteres antes do @ até o @ incluindo o @)\n",
        "print(f'A sequência caracteres dessa string até o índice 4 é: {email[2:5]}')   # No python, todo argumento antes dos \":\" representa de onde a varredura irá partir (inclusive)\n",
        "                                                                              #, o índice entrará na varredura; a direita dos \":\" será o índice até onde vou chegar\n",
        "                                                                              # Se desejo que seja impresso o índice 4, preciso especificar até o 5, pois se colocar o 4,\n",
        "                                                                              #ele não entrará na impressão!\n",
        "\n",
        "# Exemplo de como acessar o último caractere da lista sem contar seu tamanho (sem usar função \"len()\")\n",
        "print(f'O último caracter da lista é: {email[-1]}')  # O índice -1 possibilita acessar a lista de forma inversa\n"
      ],
      "metadata": {
        "id": "6SCoJGXk44O6"
      },
      "execution_count": null,
      "outputs": []
    },
    {
      "cell_type": "markdown",
      "source": [
        "## Métodos para Strings"
      ],
      "metadata": {
        "id": "iy2B_YxqK_3h"
      }
    },
    {
      "cell_type": "code",
      "source": [
        "# Sinal de (+) para concatenar strings\n",
        "nome = 'Rodolfo'\n",
        "sobre = 'Santos'\n",
        "print(nome +\" \"+ sobre)\n",
        "print(\"=============================\")\n",
        "# Converter um número em string\n",
        "cpf = 12345678910  # Usualmente, CPF, Id, telefones são usados como strings, até mesmo para questão de alocação de memória e processamento\n",
        "cpf = str(cpf)\n",
        "print(type(cpf))"
      ],
      "metadata": {
        "id": "_TxkCHUb_z5L"
      },
      "execution_count": null,
      "outputs": []
    },
    {
      "cell_type": "markdown",
      "source": [
        "## Método específicos para string"
      ],
      "metadata": {
        "id": "9r1G19DDN2mW"
      }
    },
    {
      "cell_type": "code",
      "source": [
        "# Método para deixar a primeira letra de uma string maiúscula\n",
        "nomem = 'casa amarela'\n",
        "print(nomem)\n",
        "nomem = nomem.capitalize()   #O \".captalize\" serve para padronizar , por exemplo, os dados de uma coluna, uniformizando-os.\n",
        "print(nomem)\n",
        "print(\"=====================================\")\n",
        "# Deixa a string em letras minúsculas\n",
        "nomem = nomem.casefold()   #O \".captalize\" serve para padronizar , por exemplo, os dados de uma coluna, uniformizando-os. Tornando os dados em minúsculos\n",
        "print(nomem)\n",
        "print(\"=====================================\")\n",
        "\n",
        "# (count) -  Conta quantas vezes um caractere aparece numa string\n",
        "material = 'paralelepipedo'\n",
        "qtd_p = material.count('a')   # a propriedade \".count\" necessita de argumento, no caso a letra que se deseja verificar, por exemplo!\n",
        "print(f'A qtd de letras \"P\" é: {qtd_p}')\n",
        "print(\"=====================================\")\n",
        "\n",
        "# (endswith) - Verifica se uma string TERMINA com um caractere ou sequência de caracteres\n",
        "email = 'rodolfo@gmail.com'\n",
        "teste_end = email.endswith('com')\n",
        "print(teste_end)\n",
        "print(\"=====================================\")\n",
        "\n",
        "# (startswith) - Verifica se uma string COMEÇA com um caractere ou sequência de caracteres\n",
        "email = 'rodolfo@gmail.com'\n",
        "teste_begin = email.startswith('rod')\n",
        "print(teste_begin)\n",
        "print(\"=====================================\")\n",
        "\n",
        "\n",
        "# (isnumeric) Verifica se uma string é formada por números\n",
        "rg = 'd123456789'\n",
        "teste_rg = rg.isnumeric() #Esse método pode servir de teste para ver conseguimos fazer a conversão de uma variável, por exemplo, no caso se não tivesse uma letra\n",
        "print(teste_rg)           # seria True, seria numérico, pois teria apenas números; mas como tem uma letra que seja dá False.\n",
        "print(\"=====================================\")\n",
        "\n",
        "\n",
        "# (isalpha) Verifica se uma string é formada por letras\n",
        "rg2 = 'doug'\n",
        "teste_rg2 = rg2.isalpha()\n",
        "print(teste_rg2)\n",
        "print(\"=====================================\")\n",
        "\n",
        "# (isalnum) Verifica se uma string é formada por letras ou números\n",
        "rg3 = 'D'\n",
        "teste_rg3 = rg3.isalnum()\n",
        "print(teste_rg3)\n",
        "print(\"=====================================\")\n",
        "\n",
        "# (split) Separa uma string por caracteres específicos, se não for específicado o caracter ela assume espaço como separador\n",
        "dados = input('informe os valores separados por espaços ')\n",
        "dados_sep = dados.split()     # De certa forma, transforma numa lista\n",
        "print(dados_sep)\n",
        "print(\"=====================================\")\n",
        "\n",
        "# (strip) elimina caracteres indesejados de uma string, por padrão remove espaços do início e do final da string\n",
        "autor = ' Rodolfo '\n",
        "print(len(autor))\n",
        "autor = autor.strip()\n",
        "print(len(autor))\n",
        "print(\"=====================================\")\n",
        "\n",
        "# (replace) substitui um caracter por outro\n",
        "preco = 'R$ 10.50'\n",
        "print(preco)\n",
        "preco = preco.replace('.',',') # Substitui o \".\" pelo sinal de \",\"\n",
        "print(preco)\n",
        "print(\"=====================================================\")\n",
        "\n",
        "# (title) Coloca a primeira letra de cada palavra em maiúscula\n",
        "comp = 'rodolfo felipe Pereira dos santos'\n",
        "print(comp)\n",
        "comp = comp.title()\n",
        "print(comp)\n",
        "print(\"======================================================\")\n",
        "\n",
        "# (upper) Coloca todas as letras de um texto em maiúsculas\n",
        "aluno = 'rodolfo'\n",
        "print(aluno)\n",
        "aluno = aluno.upper()\n",
        "print(aluno)\n"
      ],
      "metadata": {
        "id": "SL_vvVmoLM7F"
      },
      "execution_count": null,
      "outputs": []
    },
    {
      "cell_type": "markdown",
      "source": [
        "## Estruturas de dados em Python\n",
        "\n"
      ],
      "metadata": {
        "id": "NMwBnHK0A6Pd"
      }
    },
    {
      "cell_type": "markdown",
      "source": [
        "*  ### _(listas)_\n",
        "  É uma estrutura que pode armazenar diversos valores sobre um determinado atributo (NOTA: é recomendável manter a lista com valores da mesma categoria ou próximos.\n",
        "\n",
        "\n"
      ],
      "metadata": {
        "id": "2O2JnaPHBOoS"
      }
    },
    {
      "cell_type": "code",
      "source": [
        "# 1)- Lista vazia\n",
        "lista_vazia = []    # um dos motivos de criar uma lista vazia é\n",
        "print(lista_vazia)\n",
        "\n",
        "\n",
        "# 2)- Lista contendo strings\n",
        "salFrutas = ['Banana','Maçã','Laranja']\n",
        "print(f'Lista de compras: {salFrutas}')\n",
        "\n",
        "# 2.1)- Lista contendo strings\n",
        "conv = ['Zé','Rodolfo','Camila','Sandra']\n",
        "\n",
        "# 3)- Lista com números inteiros\n",
        "idades= [41,42,25,36]\n",
        "\n",
        "# 4)- Lista com números inteiros 2\n",
        "massas = [85,65,72,85]\n",
        "\n",
        "# 5)- lista com dados float\n",
        "altura = [1.68,1.75,1.65,2.05]\n",
        "\n"
      ],
      "metadata": {
        "id": "t15jf1OTPl1u"
      },
      "execution_count": null,
      "outputs": []
    },
    {
      "cell_type": "markdown",
      "source": [
        "### _Manipulando a lista_"
      ],
      "metadata": {
        "id": "hONnne9vHmAf"
      }
    },
    {
      "cell_type": "code",
      "source": [
        "# Acessando um elemento específico da lista a partir do seu índice\n",
        "print(conv[2])\n",
        "\n",
        "# Criando uma sublista com apenas os três primeiros elementos da lista \"conv\"\n",
        "sublista = conv[:3]    # Nesse caso, colocou-se o índice 3, pois é necessário colocar um índice a mais do desejado;  devido a interpretação do Python\n",
        "print(sublista)\n",
        "\n",
        "\n",
        "# Listando o primeiro e o último item da lista\n",
        "p_u = [conv[0], conv[-1]]\n",
        "print(p_u)\n"
      ],
      "metadata": {
        "id": "FLBUmnyHCF11"
      },
      "execution_count": null,
      "outputs": []
    },
    {
      "cell_type": "markdown",
      "source": [
        "### Método _index_\n",
        " Retorna o índice de determinado item, se ele existir na lista, por exemplo."
      ],
      "metadata": {
        "id": "O94IX-rIRLWY"
      }
    },
    {
      "cell_type": "code",
      "source": [
        "#Método index\n",
        "\n",
        "conv.index('Rodolfo',1)  # O primeiro argumento representa o item desejado (Ex.: um nome);\n",
        "                         #o segundo argumento representa a partir de que índice a busca será iniciada\n",
        "                         #e se houver um terceiro ele representará até que índice a busca será feita. Sempre lembrar de colocar um índice a mais!!"
      ],
      "metadata": {
        "colab": {
          "base_uri": "https://localhost:8080/"
        },
        "id": "WhWUCNmuHCCk",
        "outputId": "ce04a9c8-d913-4ad9-9e09-917b115f4241"
      },
      "execution_count": null,
      "outputs": [
        {
          "output_type": "execute_result",
          "data": {
            "text/plain": [
              "1"
            ]
          },
          "metadata": {},
          "execution_count": 22
        }
      ]
    },
    {
      "cell_type": "code",
      "source": [
        "# Qual o imc da convidada Camila\n",
        "\n",
        "id = conv.index(\"Camila\")\n",
        "print(id)\n",
        "print(f'O IMC da Camila é {(massas[id]/altura[id]**2):.2f}')  # Como as listas são homogêneas, buscando o \"id\" podemos fazer cálculos (dentro da f-string), com o respectivo valor de massa e altura."
      ],
      "metadata": {
        "id": "0Z3Cs-BSJ7zX"
      },
      "execution_count": null,
      "outputs": []
    },
    {
      "cell_type": "markdown",
      "source": [
        "### Exercícios de Fixação\n",
        "1) - Crie um programa que receba do usuário um nome. Caso esse nome esteja na lista guarde seu índice numa variável e a utilize para buscar massa e altura correspondente, bem como calcular seu IMC e após tudo isso informar o usuário, caso o nome não esteja na lista retorne uma mensagem informando o usuário."
      ],
      "metadata": {
        "id": "5n9BOL5wcF3K"
      }
    },
    {
      "cell_type": "code",
      "source": [
        "#Exercício de fixação\n",
        "# Método 1\n",
        "\n",
        "nome = str(input(\"Digite um nome para consultar\")).capitalize()  # já formata o dado para deixar padronizado, deixando a primeira letra em caixa alta e as demais em baixa\n",
        "if nome in conv:        # verifica se o dado imputado consta na lista \"conv\"\n",
        "    id1 = conv.index(nome)    # ação a ser executada caso o nome conste na lista \"conv\". Guarda o índice do dado nome inserido numa variável(no caso a id1)\n",
        "    print(f'O IMC da(o){nome} é {(massas[id1]/altura[id1]**2):.2f}')\n",
        "    print(f'a massa da(o) {nome[id1]} é: {massas[id1]} kg')       # os índices de massas e altura já são referentes ao id respectivo dos nomes que constam na lista\n",
        "    print(f'a altura da(o) {nome[id1]} é: {altura[id1]}, em m')   # se o item constar na lista, caso não executará o else.\n",
        "else:\n",
        "    print(\"O nome não consta na lista\")\n",
        "\n",
        "print(\"=======================================================================================================================\")\n",
        "\n",
        "# Método 2\n",
        "noivo = ['Zé','Mané','Ana','Fran','João','Franz'] # Cria o banco de dados com os nomes dos convidados do noivo\n",
        "nome = input('Informe o nome que deseja consultar: ') #recebendo o nome do usuário\n",
        "nome = nome.capitalize() #Deixo o nome que o usuário digitou com a primeira letra em caixa alta e as demais em caixa baixa\n",
        "if nome in noivo: # se o nome que o usuário digitou estiver no banco de dados faça algo\n",
        "  id2 = noivo.index(nome) # recebendo o argumento nome e procurando o seu índice já sabendo que ele está na lista exatmente com a mesma grafia\n",
        "  imc = massas[id2]/altura[id2]**2 # calculando o imc já sabendo a posição que deve busta em cada lista (massas e alturas)\n",
        "  print(f'{nome} tem {massas[id2]} kg, {altura[id2]} metros e seu imc é: {imc:.1f}') # Mostrando o nome digitado e seus respectivos massa, altura e imc\n",
        "else:\n",
        "  print(f'Desculpe, {nome} não está na lista, por favor reinicie o programa para consultar outro nome')\n",
        "\n",
        "\n",
        "\n",
        "\n"
      ],
      "metadata": {
        "id": "QR_yD3KSKD7F"
      },
      "execution_count": null,
      "outputs": []
    },
    {
      "cell_type": "markdown",
      "source": [
        "### _(append)_\n",
        "\n",
        "  Adiciona elementos numa lista qualquer. Por padrão, este método insere o valor desejado numa lista existente na última posição."
      ],
      "metadata": {
        "id": "jwmN8vrwmMj4"
      }
    },
    {
      "cell_type": "code",
      "source": [
        "lista_vazia = []\n",
        "print(lista_vazia) # imprime uma lista vazia que já existe\n",
        "lista_vazia.append('Joana') # adiciona Joana na última posição de uma lista que já exista\n",
        "print(lista_vazia) # imprime o status atual da lista vazia\n",
        "lista_vazia.append('Bia')\n",
        "lista_vazia.append('Eduardo')\n",
        "lista_vazia.append('Ester')\n",
        "lista_vazia.append('Dani')\n",
        "print(lista_vazia) # imprime o status atual da lista vazia\n",
        "familia = lista_vazia\n",
        "print(familia)"
      ],
      "metadata": {
        "colab": {
          "base_uri": "https://localhost:8080/"
        },
        "id": "ybl5RLPuY6Ze",
        "outputId": "f392f7cc-0797-4824-c9f7-ea26196cc00c"
      },
      "execution_count": null,
      "outputs": [
        {
          "output_type": "stream",
          "name": "stdout",
          "text": [
            "[]\n",
            "['Joana']\n",
            "['Joana', 'Bia', 'Eduardo', 'Ester', 'Dani']\n",
            "['Joana', 'Bia', 'Eduardo', 'Ester', 'Dani']\n"
          ]
        }
      ]
    },
    {
      "cell_type": "markdown",
      "source": [
        "### _(insert)_\n",
        "  Permite inserir um elemento na lista numa posição específica\n"
      ],
      "metadata": {
        "id": "cJ-drpVYrjAb"
      }
    },
    {
      "cell_type": "code",
      "source": [
        "familia.insert(1, \"Bia\")   # Com o \"insert\" o programa insere um elemento na posição especificada no primeiro argumento, separando o segundo argumento por vírgula.\n",
        "print(familia)                 #Ele não remove o item anterior, só o desloca para posição seguinte.\n"
      ],
      "metadata": {
        "id": "fhotfC0QoAW1"
      },
      "execution_count": null,
      "outputs": []
    },
    {
      "cell_type": "code",
      "source": [
        "fam[3] = 'Raimundo' # Atribuição direta insere um novo elemento substituindo o anterior se houver\n",
        "print(fam)"
      ],
      "metadata": {
        "id": "gWKENA2wsFRe"
      },
      "execution_count": null,
      "outputs": []
    },
    {
      "cell_type": "markdown",
      "source": [
        "### _(pop)_\n",
        "  Exclui um elemento pelo índice. Por padrão exclui o último elemento se não informarmos o índice"
      ],
      "metadata": {
        "id": "433kaw5Hu0cK"
      }
    },
    {
      "cell_type": "code",
      "source": [
        "fam.pop() # método que exclui pelo índice, por padrão exclui o último elemento se não informarmos o índice\n",
        "print(fam)"
      ],
      "metadata": {
        "id": "hScuxmXfvXdd"
      },
      "execution_count": null,
      "outputs": []
    },
    {
      "cell_type": "code",
      "source": [
        "# Excluir Joana da lista fam pelo método pop\n",
        "familia.pop(1)\n",
        "print(familia)"
      ],
      "metadata": {
        "id": "EZe3_AiCvdqR"
      },
      "execution_count": null,
      "outputs": []
    },
    {
      "cell_type": "markdown",
      "source": [],
      "metadata": {
        "id": "7eFQmPgCx9Rt"
      }
    },
    {
      "cell_type": "code",
      "source": [
        "# Excluir raimundo da lista fam pelo método remove\n",
        "familia.remove('Bia')\n",
        "print(familia)"
      ],
      "metadata": {
        "colab": {
          "base_uri": "https://localhost:8080/"
        },
        "id": "HzcaWeJvvkEv",
        "outputId": "ff5f71ea-492a-4d0d-9fae-28e2aca80447"
      },
      "execution_count": null,
      "outputs": [
        {
          "output_type": "stream",
          "name": "stdout",
          "text": [
            "['Joana', 'Eduardo', 'Ester', 'Dani']\n"
          ]
        }
      ]
    },
    {
      "cell_type": "markdown",
      "source": [
        "### Loop While"
      ],
      "metadata": {
        "id": "iEu5WL8pYyUO"
      }
    },
    {
      "cell_type": "code",
      "source": [
        "'''\n",
        "Faça um script que receba do usuário cinco números inteiros, armazene os\n",
        "números recebidos em uma lista e no final exiba a soma desses valores\n",
        "'''\n",
        "n1 = int(input('Informe o 1º número inteiro: '))\n",
        "n2 = int(input('Informe o 2º número inteiro: '))\n",
        "n3 = int(input('Informe o 3º número inteiro: '))\n",
        "n4 = int(input('Informe o 4º número inteiro: '))\n",
        "n5 = int(input('Informe o 5º número inteiro: '))\n",
        "numeros = [n1, n2, n3, n4, n5]\n",
        "print(f'A soma dos números digitados é: {sum(numeros)} ')\n"
      ],
      "metadata": {
        "id": "Fdzdm9gBwCSC"
      },
      "execution_count": null,
      "outputs": []
    },
    {
      "cell_type": "code",
      "source": [
        "'''\n",
        "Faça um script que receba do usuário cinco números inteiros, armazene os\n",
        "números recebidos a cada momento em que forem recebidos em uma lista e\n",
        "no final exiba a soma desses valores\n",
        "'''\n",
        "numeros = []\n",
        "n1 = int(input('Informe o 1º número inteiro: '))\n",
        "numeros.append(n1)\n",
        "n2 = int(input('Informe o 2º número inteiro: '))\n",
        "numeros.append(n2)\n",
        "n3 = int(input('Informe o 3º número inteiro: '))\n",
        "numeros.append(n3)\n",
        "n4 = int(input('Informe o 4º número inteiro: '))\n",
        "numeros.append(n4)\n",
        "n5 = int(input('Informe o 5º número inteiro: '))\n",
        "numeros.append(n5)\n",
        "\n",
        "print(f'A soma dos números digitados é: {sum(numeros)} ')"
      ],
      "metadata": {
        "id": "Tobpsgc6TImF"
      },
      "execution_count": null,
      "outputs": []
    },
    {
      "cell_type": "code",
      "source": [
        "'''\n",
        "Faça um script que receba do usuário n números inteiros, armazene os\n",
        "números recebidos a cada momento em que forem recebidos em uma lista e\n",
        "no final exiba a soma desses valores. Considere que o usuário deverá informar\n",
        "apenas 1 numero inteiro por caixa de diálogo é permitido usar (While)\n",
        "'''\n",
        "\n",
        "c = 0\n",
        "\n",
        "soma = []\n",
        "n = int(input(\"Quantos números você deseja inserir?\"))\n",
        "while c < n:  #enquanto o contador for < que o valor desejado faça:\n",
        "    i = int(input(f\"Informe o {c+1} número inteiro:\"))  # uso do segundo input de forma desmembrada\n",
        "    soma.append(i)\n",
        "    c += 1\n",
        "print(f'A soma dos valores {sum(soma)}')"
      ],
      "metadata": {
        "id": "3aO7bZHLYyE7"
      },
      "execution_count": null,
      "outputs": []
    },
    {
      "cell_type": "code",
      "source": [
        "'''\n",
        "Faça um script que receba do usuário n números inteiros, armazene os\n",
        "números recebidos a cada momento em que forem recebidos em uma lista e\n",
        "no final exiba a soma desses valores. Considere que o usuário deverá informar\n",
        "apenas 1 numero inteiro por caixa de diálogo é permitido usar (While)\n",
        "'''\n",
        "c = 0 # criei um contador para utilizar como parada do laço while\n",
        "n = int(input('Informe a qtde de números inteiros que deseja na lista: '))\n",
        "numeros = []\n",
        "while c < n:\n",
        "  numeros.append(int(input(f'Informe o {c+1}º número inteiro da lista: ')))\n",
        "  c += 1\n",
        "print(f'A soma dos valores digitados é {sum(numeros)}')"
      ],
      "metadata": {
        "id": "0PNa3280bz-E"
      },
      "execution_count": null,
      "outputs": []
    },
    {
      "cell_type": "code",
      "source": [
        "'''\n",
        "Faça um programa que receba do usuário números inteiros e os insira na lista\n",
        "somente se o número for ímpar e encerre o programa quando a lista tiver 5\n",
        "números ímpares\n",
        "'''\n",
        "\n",
        "\n",
        "l_impar = []\n",
        "\n",
        "\n",
        "while len(l_impar) < 5:\n",
        "  n = int(input('Insira um número inteiro: '))\n",
        "  if n % 2 != 0:\n",
        "    l_impar.append(n)\n",
        "    print(l_impar)\n",
        "  else:\n",
        "    pass\n"
      ],
      "metadata": {
        "id": "bnxOv5UYjqu1"
      },
      "execution_count": null,
      "outputs": []
    },
    {
      "cell_type": "code",
      "source": [
        "'''\n",
        "Faça um programa que receba do usuário números inteiros e os insira na lista\n",
        "somente se o número for ímpar e encerre o programa quando a lista tiver 5\n",
        "números ímpares\n",
        "'''\n",
        "numeros = []\n",
        "while len(numeros) < 5:\n",
        "  n = int(input('Informe um número inteiro: '))\n",
        "  if n % 2 != 0:\n",
        "    numeros.append(n)\n",
        "    #print(f'O número {n} é impar e foi inserido')\n",
        "  #else:\n",
        "    #print(f'O número {n} não é impar e não foi inserido')\n",
        "print(numeros)\n"
      ],
      "metadata": {
        "id": "hSgHyI4vmhgU"
      },
      "execution_count": null,
      "outputs": []
    },
    {
      "cell_type": "code",
      "source": [
        "'''\n",
        "Faça um script que receba do usuário n números inteiros, armazene os\n",
        "números recebidos a cada momento em que forem recebidos em uma lista e\n",
        "no final exiba a soma desses valores. Considere que o usuário deverá informar\n",
        "apenas 1 numero inteiro por caixa de diálogo é permitido usar (While)\n",
        "'''\n",
        "c = 0 # criei um contador para utilizar como parada do laço while\n",
        "while True:\n",
        "  try:\n",
        "    n = int(input('Informe a qtde de números inteiros que deseja na lista: '))\n",
        "    break\n",
        "  except:\n",
        "    pass\n",
        "  print(f'''Cuidado! você não digitou um número inteiro, por favor faça isso''')\n",
        "numeros = []\n",
        "while c < n:\n",
        "  try:\n",
        "    i = int(input(f'Informe o {c+1}º número inteiro da lista: '))\n",
        "    numeros.append(i)\n",
        "    c += 1\n",
        "  except:\n",
        "    pass\n",
        "    print(f'''Cuidado! você não digitou um número inteiro, por favor,\n",
        "    digite o {c+1}º número nvamente''')\n",
        "print(f'A soma dos valores digitados é {sum(numeros)}')"
      ],
      "metadata": {
        "id": "hUyuXdnk3bhY"
      },
      "execution_count": null,
      "outputs": []
    }
  ]
}